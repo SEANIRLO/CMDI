{
 "cells": [
  {
   "cell_type": "code",
   "execution_count": null,
   "id": "ac21206b-b154-4bd3-923f-25e71db1dedb",
   "metadata": {},
   "outputs": [],
   "source": [
    "#!git clone https://github.com/ultralytics/yolov5  # clone repo\n",
    "%cd yolov5\n",
    "%pip install -r requirements.txt -i http://mirrors.aliyun.com/pypi/simple/ --trusted-host mirrors.aliyun.com"
   ]
  },
  {
   "cell_type": "code",
   "execution_count": 1,
   "id": "5c4dac68-32b8-407f-a408-981c6cf7147f",
   "metadata": {},
   "outputs": [
    {
     "name": "stdout",
     "output_type": "stream",
     "text": [
      "torch version: 1.11.0+cu102\n",
      "cuda version: 10.2\n",
      "cudnn version: 7605\n",
      "GPU available: True\n",
      "GPU count: 1\n",
      "Using torch 1.11.0+cu102 (Tesla V100S-PCIE-32GB)\n"
     ]
    }
   ],
   "source": [
    "import torch\n",
    "# check environment\n",
    "print(\"torch version: \" + torch.__version__)\n",
    "print(\"cuda version: \" + torch.version.cuda)\n",
    "print(\"cudnn version: \" + str(torch.backends.cudnn.version())) # 7603 means cudnn7.6.3.x\n",
    "print(\"GPU available: \" + str(torch.cuda.is_available())) # 是否有已经配置好可以使用的GPU (若True则有)\n",
    "print(\"GPU count: \" + str(torch.cuda.device_count())) # 可用GPU块数\n",
    "print(f\"Using torch {torch.__version__} ({torch.cuda.get_device_properties(0).name if torch.cuda.is_available() else 'CPU'})\")"
   ]
  },
  {
   "cell_type": "code",
   "execution_count": null,
   "id": "ada48d64-a5a9-42f6-9d72-6bbf32b53cef",
   "metadata": {},
   "outputs": [],
   "source": []
  }
 ],
 "metadata": {
  "kernelspec": {
   "display_name": "yolov5",
   "language": "python",
   "name": "yolov5"
  },
  "language_info": {
   "codemirror_mode": {
    "name": "ipython",
    "version": 3
   },
   "file_extension": ".py",
   "mimetype": "text/x-python",
   "name": "python",
   "nbconvert_exporter": "python",
   "pygments_lexer": "ipython3",
   "version": "3.7.0"
  }
 },
 "nbformat": 4,
 "nbformat_minor": 5
}
